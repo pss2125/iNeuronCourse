{
 "cells": [
  {
   "cell_type": "markdown",
   "id": "a95c8ca7",
   "metadata": {},
   "source": [
    "1. Write a Python program to print &quot;Hello Python&quot;?\n",
    "2. Write a Python program to do arithmetical operations addition and division.?\n",
    "3. Write a Python program to find the area of a triangle?\n",
    "4. Write a Python program to swap two variables?\n",
    "5. Write a Python program to generate a random number? "
   ]
  },
  {
   "cell_type": "code",
   "execution_count": 1,
   "id": "a308ced9",
   "metadata": {},
   "outputs": [
    {
     "name": "stdout",
     "output_type": "stream",
     "text": [
      "Hello Python\n"
     ]
    }
   ],
   "source": [
    "#1. Write a Python program to print \"Hello Python\"?\n",
    "print(\"Hello Python\")"
   ]
  },
  {
   "cell_type": "code",
   "execution_count": 24,
   "id": "1e0328ba",
   "metadata": {},
   "outputs": [
    {
     "name": "stdout",
     "output_type": "stream",
     "text": [
      "Enter first number: 4.5\n",
      "Enter second number: 5.6\n",
      "Addition\n",
      "10.1\n",
      "Subtraction\n",
      "-1.0999999999999996\n"
     ]
    }
   ],
   "source": [
    "#2. Write a Python program to do arithmetical operations addition and division.?\n",
    "a = float(input('Enter first number: '))\n",
    "b = float(input('Enter second number: '))\n",
    "#Addition\n",
    "c = a + b\n",
    "print(\"Addition\")\n",
    "print(c)\n",
    "#Subtraction\n",
    "print(\"Subtraction\")\n",
    "c = a - b\n",
    "print(c)"
   ]
  },
  {
   "cell_type": "code",
   "execution_count": 21,
   "id": "6bee1111",
   "metadata": {},
   "outputs": [
    {
     "name": "stdout",
     "output_type": "stream",
     "text": [
      "Enter first side: 2\n",
      "Enter second side: 3\n",
      "Enter third side: 4\n",
      "Area of Triangle with Sides 2.000000, 3.000000, 4.000000 is 2.904738\n"
     ]
    }
   ],
   "source": [
    "#3. Write a Python program to find the area of a triangle?\n",
    "a = float(input('Enter first side: '))\n",
    "b = float(input('Enter second side: '))\n",
    "c = float(input('Enter third side: '))\n",
    "s = (a + b + c) / 2\n",
    "area = (s*(s-a)*(s-b)*(s-c)) ** 0.5\n",
    "print(\"Area of Triangle with Sides %f, %f, %f is %f\" %(a,b,c,area))"
   ]
  },
  {
   "cell_type": "code",
   "execution_count": 22,
   "id": "5d3a9ea1",
   "metadata": {},
   "outputs": [
    {
     "name": "stdout",
     "output_type": "stream",
     "text": [
      "Enter first number: 4\n",
      "Enter second number: 7\n",
      "Before Swapping : first number 4.000000 second number 7.000000\n",
      "After Swapping : first number 7.000000 second number 4.000000\n"
     ]
    }
   ],
   "source": [
    "#4. Write a Python program to swap two variables?\n",
    "a = float(input('Enter first number: '))\n",
    "b = float(input('Enter second number: '))\n",
    "print(\"Before Swapping : first number %f second number %f\" %(a,b))\n",
    "\n",
    "a, b = b, a\n",
    "print(\"After Swapping : first number %f second number %f\" %(a,b))\n"
   ]
  },
  {
   "cell_type": "code",
   "execution_count": 23,
   "id": "fbae33e3",
   "metadata": {},
   "outputs": [
    {
     "name": "stdout",
     "output_type": "stream",
     "text": [
      "Input the Range of numbers\n",
      "Enter first number: 4\n",
      "Enter second number: 6666\n",
      "Generating random numbers between 4.000000 and 6666.000000 is\n",
      "3131\n"
     ]
    }
   ],
   "source": [
    "#5. Write a Python program to generate a random number?\n",
    "print(\"Input the Range of numbers\")\n",
    "a = float(input('Enter first number: '))\n",
    "b = float(input('Enter second number: '))\n",
    "if a > b:\n",
    " #swapping to make sure a is smaller than b for random generator to work\n",
    " a,b = b,a\n",
    "# importing the random module\n",
    "import random\n",
    "print(\"Generating random numbers between %f and %f is\" %(a,b))\n",
    "print(random.randint(a,b))"
   ]
  },
  {
   "cell_type": "code",
   "execution_count": null,
   "id": "3febbb9c",
   "metadata": {},
   "outputs": [],
   "source": []
  },
  {
   "cell_type": "code",
   "execution_count": null,
   "id": "83355e8c",
   "metadata": {},
   "outputs": [],
   "source": []
  },
  {
   "cell_type": "code",
   "execution_count": null,
   "id": "6005c1b4",
   "metadata": {},
   "outputs": [],
   "source": []
  },
  {
   "cell_type": "code",
   "execution_count": null,
   "id": "b52cbc0b",
   "metadata": {},
   "outputs": [],
   "source": []
  }
 ],
 "metadata": {
  "kernelspec": {
   "display_name": "Python 3 (ipykernel)",
   "language": "python",
   "name": "python3"
  },
  "language_info": {
   "codemirror_mode": {
    "name": "ipython",
    "version": 3
   },
   "file_extension": ".py",
   "mimetype": "text/x-python",
   "name": "python",
   "nbconvert_exporter": "python",
   "pygments_lexer": "ipython3",
   "version": "3.9.7"
  }
 },
 "nbformat": 4,
 "nbformat_minor": 5
}
